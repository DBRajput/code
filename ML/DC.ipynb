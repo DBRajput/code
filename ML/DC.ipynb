{
 "cells": [
  {
   "cell_type": "code",
   "execution_count": null,
   "metadata": {},
   "outputs": [],
   "source": [
    "import pandas as pd\n",
    "import numpy as np\n",
    "\n",
    "#reading Dataset\n",
    "dataset=pd.read_csv(\"a2.csv\")\n",
    "X=dataset.iloc[:,:-1]\n",
    "y=dataset.iloc[:,5]\n",
    "\n",
    "#Perform Label encoding\n",
    "from sklearn.preprocessing import LabelEncoder\n",
    "le=LabelEncoder()\n",
    "\n",
    "X=X.apply(le.fit_transform)\n",
    "print(X)\n"
   ]
  },
  {
   "cell_type": "code",
   "execution_count": null,
   "metadata": {},
   "outputs": [],
   "source": [
    "\n",
    "from sklearn.tree import DecisionTreeClassifier\n",
    "regressor=DecisionTreeClassifier()\n",
    "regressor.fit(X.iloc[:,1:5],y)\n",
    "\n",
    "#Predict value for the given Expression\n",
    "X_in=np.array([1,1,0,0])\n",
    "y_pred=regressor.predict([X_in])\n",
    "print(\"Prediction:\", y_pred)\n",
    "\n",
    "import six\n",
    "import sys\n",
    "sys.modules['sklearn.externals.six'] = six\n",
    "from io import StringIO\n",
    "# from sklearn.externals.six import StringIO\n",
    "from IPython.display import Image\n",
    "from sklearn.tree import export_graphviz\n",
    "import pydotplus\n",
    "\n",
    "import os\n",
    "os.environ['PATH'] = \"C://Users/Hero/AppData/Local/Programs/Python/Python39/Lib/site-packages/graphviz-0.20.dist-info/graphviz-0.20.dist-info\"\n",
    "dot_data=StringIO()\n",
    "\n",
    "export_graphviz(regressor,out_file=dot_data,filled=True,rounded=True,special_characters=True)\n",
    "graph=pydotplus.graph_from_dot_data(dot_data.getvalue())\n",
    "Image(graph.write_png('tree.png'))\n"
   ]
  }
 ],
 "metadata": {
  "interpreter": {
   "hash": "d5faf890fae02adb860d4983fba8159d1b80269470639d370d7d66c9174520a4"
  },
  "kernelspec": {
   "display_name": "Python 3.9.2 64-bit",
   "language": "python",
   "name": "python3"
  },
  "language_info": {
   "codemirror_mode": {
    "name": "ipython",
    "version": 3
   },
   "file_extension": ".py",
   "mimetype": "text/x-python",
   "name": "python",
   "nbconvert_exporter": "python",
   "pygments_lexer": "ipython3",
   "version": "3.9.2"
  },
  "orig_nbformat": 4
 },
 "nbformat": 4,
 "nbformat_minor": 2
}
